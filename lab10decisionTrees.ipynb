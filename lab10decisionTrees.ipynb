{
 "cells": [
  {
   "cell_type": "code",
   "execution_count": null,
   "id": "3162fca4-138b-4ed5-8fdb-a46b71b2c869",
   "metadata": {},
   "outputs": [],
   "source": [
    "#install libary to do machine learning\n",
    "!pip install scikit-learn"
   ]
  },{
   "cell_type": "code",
   "execution_count": null,
   "id": "3162fca4-138b-4ed5-8fdb-a46b71b2c869",
   "metadata": {},
   "outputs": [],
   "source": [
    "#imports\n",
    "import pandas as pd\n",
    "import seaborn as sns\n",
    "import matplotlib.pylab as plt\n",
    "import numpy as np\n",
    "from sklearn.metrics import accuracy_score\n",
    "from sklearn.model_selection import KFold\n",
    "from sklearn.model_selection import cross_val_score\n",
    "from sklearn import tree\n",
    "from sklearn.tree import DecisionTreeClassifier\n",
    "from sklearn.model_selection import train_test_split\n"
   ]
  },
  {
   "cell_type": "code",
   "execution_count": null,
   "id": "f24d8936-06fb-42fd-87e6-29cfea118466",
   "metadata": {},
   "outputs": [],
   "source": [
    "#load data \n",
    "df = pd.read_csv('titanic.csv')\n",
    "#get rid of rows missing data\n",
    "df.dropna(inplace=True)\n",
    "df.shape"
   ]
  },
  {
   "cell_type": "code",
   "execution_count": null,
   "id": "4ebd5467-ace6-4a3c-9492-0cdd060c899b",
   "metadata": {},
   "outputs": [],
   "source": [
    "#preview data\n",
    "df.head()"
   ]
  },
  {
   "cell_type": "code",
   "execution_count": null,
   "id": "7fe323d6-0ce1-452d-87d3-08631eacf458",
   "metadata": {},
   "outputs": [],
   "source": [
    "#Get rid of unamed and name columns\n",
    "df = df.drop(['Unnamed: 0','name'], axis=1)"
   ]
  },
  {
   "cell_type": "code",
   "execution_count": null,
   "id": "9a316c3c-b052-4ce5-b3e9-a9ba0968fc6c",
   "metadata": {},
   "outputs": [],
   "source": [
    "df.dtypes"
   ]
  },
  {
   "cell_type": "code",
   "execution_count": null,
   "id": "46be827d-0e58-4072-a51f-132a5f1a9f7b",
   "metadata": {},
   "outputs": [],
   "source": [
    "#Data must be one hot encoded (categories split into columns with 1 = true and 0 false)\n",
    "encoded_df = pd.get_dummies(df.drop(['survived'], axis=1))\n",
    "encoded_df.head()"
   ]
  },
  {
   "cell_type": "code",
   "execution_count": null,
   "id": "5c5c5e96-e9be-4eee-bfdc-9b9d784a89fa",
   "metadata": {},
   "outputs": [],
   "source": [
    "#Split the data into training and test\n",
    "#X_train, X_test, y_train, y_test = train_test_split(df.drop(['survived'], axis=1), df['survived'], test_size = 0.20, random_state = 86)\n",
    "X_train, X_test, y_train, y_test = train_test_split(encoded_df, df['survived'], test_size = 0.20, random_state = 86)\n",
    "\n",
    "X_train.head()"
   ]
  },
  {
   "cell_type": "code",
   "execution_count": null,
   "id": "06f43ac0-ccf8-424b-b30d-c86fbe5ed0eb",
   "metadata": {},
   "outputs": [],
   "source": [
    "y_train.head()"
   ]
  },
  {
   "cell_type": "code",
   "execution_count": null,
   "id": "9b99ba8f-9016-4c87-88ab-08e8b8a051f5",
   "metadata": {},
   "outputs": [],
   "source": [
    "#Set hyperparameters\n",
    "#Change these values to try to get the best accuracy\n",
    "\n",
    "#can be 'gini' or 'entropy'\n",
    "split_function = 'entropy'\n",
    "\n",
    "#can be any whole number 1 or larger\n",
    "max_depth = 3"
   ]
  },
  {
   "cell_type": "code",
   "execution_count": null,
   "id": "7ac44498-f199-45ad-be16-8d4dac55162f",
   "metadata": {},
   "outputs": [],
   "source": [
    "#Train you Decision Tree model and show the accuracy\n",
    "tree_model = DecisionTreeClassifier(criterion=split_function, max_depth=max_depth, random_state=86)\n",
    "tree_model.fit(X_train, y_train)\n",
    "accuracy = tree_model.score(X=X_test, y=y_test)\n",
    "accuracy"
   ]
  },
  {
   "cell_type": "code",
   "execution_count": null,
   "id": "aa009870-55f0-4833-86d6-c83fb328d43a",
   "metadata": {},
   "outputs": [],
   "source": [
    "#print your decision tree - left is true, right is false\n",
    "#you may need to make some adjustments to visualize it\n",
    "\n",
    "#you can adjust fontsize here:\n",
    "tree.plot_tree(tree_model, label='none', impurity=False, feature_names=list(X_train) , class_names = ['Victim', 'Survived'], fontsize=12)\n",
    "\n",
    "#you can adjust plot area here (change 30 and 30)\n",
    "plt.rcParams['figure.figsize'] = [30, 30]\n",
    "plt.rcParams['figure.dpi'] = 100\n",
    "plt.show()"
   ]
  },
  {
   "cell_type": "code",
   "execution_count": null,
   "id": "ab41c06e-8cfe-47f4-9e4d-1914c8465648",
   "metadata": {},
   "outputs": [],
   "source": []
  }
 ],
 "metadata": {
  "kernelspec": {
   "display_name": "Python 3 (ipykernel)",
   "language": "python",
   "name": "python3"
  },
  "language_info": {
   "codemirror_mode": {
    "name": "ipython",
    "version": 3
   },
   "file_extension": ".py",
   "mimetype": "text/x-python",
   "name": "python",
   "nbconvert_exporter": "python",
   "pygments_lexer": "ipython3",
   "version": "3.9.12"
  }
 },
 "nbformat": 4,
 "nbformat_minor": 5
}
